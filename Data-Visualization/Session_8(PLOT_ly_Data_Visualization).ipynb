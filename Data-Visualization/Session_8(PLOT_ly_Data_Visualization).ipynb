{
  "nbformat": 4,
  "nbformat_minor": 0,
  "metadata": {
    "colab": {
      "name": "Session-8(PLOT.ly Data Visualization).ipynb",
      "version": "0.3.2",
      "provenance": [],
      "collapsed_sections": []
    },
    "kernelspec": {
      "name": "python3",
      "display_name": "Python 3"
    }
  },
  "cells": [
    {
      "metadata": {
        "id": "hmC_uIqCFUbk",
        "colab_type": "text"
      },
      "cell_type": "markdown",
      "source": [
        "This session has been inspired from https://www.kaggle.com/kanncaa1/plotly-tutorial-for-beginners/notebook"
      ]
    },
    {
      "metadata": {
        "id": "2sfdxif_JtUn",
        "colab_type": "code",
        "colab": {
          "base_uri": "https://localhost:8080/",
          "height": 595
        },
        "outputId": "fd08e517-9f7d-4e90-c418-a1ff90cd12f5"
      },
      "cell_type": "code",
      "source": [
        "!pip install plotly --upgrade"
      ],
      "execution_count": 9,
      "outputs": [
        {
          "output_type": "stream",
          "text": [
            "Collecting plotly\n",
            "\u001b[?25l  Downloading https://files.pythonhosted.org/packages/4d/59/63a5a05532a67b1c49283e8b7885bbe55454a1eef8443e97a7479bb9964b/plotly-3.6.0.tar.gz (31.1MB)\n",
            "\u001b[K    100% |████████████████████████████████| 31.1MB 1.0MB/s \n",
            "\u001b[?25hRequirement already satisfied, skipping upgrade: decorator>=4.0.6 in /usr/local/lib/python3.6/dist-packages (from plotly) (4.3.2)\n",
            "Requirement already satisfied, skipping upgrade: nbformat>=4.2 in /usr/local/lib/python3.6/dist-packages (from plotly) (4.4.0)\n",
            "Requirement already satisfied, skipping upgrade: pytz in /usr/local/lib/python3.6/dist-packages (from plotly) (2018.9)\n",
            "Requirement already satisfied, skipping upgrade: requests in /usr/local/lib/python3.6/dist-packages (from plotly) (2.18.4)\n",
            "Collecting retrying>=1.3.3 (from plotly)\n",
            "  Downloading https://files.pythonhosted.org/packages/44/ef/beae4b4ef80902f22e3af073397f079c96969c69b2c7d52a57ea9ae61c9d/retrying-1.3.3.tar.gz\n",
            "Requirement already satisfied, skipping upgrade: six in /usr/local/lib/python3.6/dist-packages (from plotly) (1.11.0)\n",
            "Requirement already satisfied, skipping upgrade: ipython-genutils in /usr/local/lib/python3.6/dist-packages (from nbformat>=4.2->plotly) (0.2.0)\n",
            "Requirement already satisfied, skipping upgrade: jupyter-core in /usr/local/lib/python3.6/dist-packages (from nbformat>=4.2->plotly) (4.4.0)\n",
            "Requirement already satisfied, skipping upgrade: jsonschema!=2.5.0,>=2.4 in /usr/local/lib/python3.6/dist-packages (from nbformat>=4.2->plotly) (2.6.0)\n",
            "Requirement already satisfied, skipping upgrade: traitlets>=4.1 in /usr/local/lib/python3.6/dist-packages (from nbformat>=4.2->plotly) (4.3.2)\n",
            "Requirement already satisfied, skipping upgrade: idna<2.7,>=2.5 in /usr/local/lib/python3.6/dist-packages (from requests->plotly) (2.6)\n",
            "Requirement already satisfied, skipping upgrade: urllib3<1.23,>=1.21.1 in /usr/local/lib/python3.6/dist-packages (from requests->plotly) (1.22)\n",
            "Requirement already satisfied, skipping upgrade: certifi>=2017.4.17 in /usr/local/lib/python3.6/dist-packages (from requests->plotly) (2018.11.29)\n",
            "Requirement already satisfied, skipping upgrade: chardet<3.1.0,>=3.0.2 in /usr/local/lib/python3.6/dist-packages (from requests->plotly) (3.0.4)\n",
            "Building wheels for collected packages: plotly, retrying\n",
            "  Building wheel for plotly (setup.py) ... \u001b[?25ldone\n",
            "\u001b[?25h  Stored in directory: /root/.cache/pip/wheels/67/0b/29/08c7f5caed2d1ac446db982ff607b326d49bfa0bd3a67ef8c7\n",
            "  Building wheel for retrying (setup.py) ... \u001b[?25ldone\n",
            "\u001b[?25h  Stored in directory: /root/.cache/pip/wheels/d7/a9/33/acc7b709e2a35caa7d4cae442f6fe6fbf2c43f80823d46460c\n",
            "Successfully built plotly retrying\n",
            "Installing collected packages: retrying, plotly\n",
            "  Found existing installation: plotly 1.12.12\n",
            "    Uninstalling plotly-1.12.12:\n",
            "      Successfully uninstalled plotly-1.12.12\n",
            "Successfully installed plotly-3.6.0 retrying-1.3.3\n"
          ],
          "name": "stdout"
        },
        {
          "output_type": "display_data",
          "data": {
            "application/vnd.colab-display-data+json": {
              "pip_warning": {
                "packages": [
                  "plotly"
                ]
              }
            }
          },
          "metadata": {
            "tags": []
          }
        }
      ]
    },
    {
      "metadata": {
        "id": "zLToiG_2C266",
        "colab_type": "code",
        "colab": {}
      },
      "cell_type": "code",
      "source": [
        "import pandas as pd\n",
        "# import graph objects as \"go\"\n",
        "import plotly.graph_objs as go\n",
        "import plotly.plotly as py"
      ],
      "execution_count": 0,
      "outputs": []
    },
    {
      "metadata": {
        "id": "nGYH0w3pEQq_",
        "colab_type": "code",
        "colab": {
          "base_uri": "https://localhost:8080/",
          "height": 34
        },
        "outputId": "236c16c4-d143-494c-84fe-7086fcab90bc"
      },
      "cell_type": "code",
      "source": [
        "ls"
      ],
      "execution_count": 2,
      "outputs": [
        {
          "output_type": "stream",
          "text": [
            "\u001b[0m\u001b[01;34msample_data\u001b[0m/  timesData.csv\n"
          ],
          "name": "stdout"
        }
      ]
    },
    {
      "metadata": {
        "id": "neYLX0x7Fgft",
        "colab_type": "code",
        "colab": {}
      },
      "cell_type": "code",
      "source": [
        "import pandas as pd\n",
        "# Load data that we will use.\n",
        "timesData = pd.read_csv(\"timesData.csv\")"
      ],
      "execution_count": 0,
      "outputs": []
    },
    {
      "metadata": {
        "id": "z5VEXB4tFjC4",
        "colab_type": "code",
        "colab": {
          "base_uri": "https://localhost:8080/",
          "height": 479
        },
        "outputId": "b117bfa1-fad5-4ece-a813-c00470948256"
      },
      "cell_type": "code",
      "source": [
        "timesData.head()"
      ],
      "execution_count": 4,
      "outputs": [
        {
          "output_type": "execute_result",
          "data": {
            "text/html": [
              "<div>\n",
              "<style scoped>\n",
              "    .dataframe tbody tr th:only-of-type {\n",
              "        vertical-align: middle;\n",
              "    }\n",
              "\n",
              "    .dataframe tbody tr th {\n",
              "        vertical-align: top;\n",
              "    }\n",
              "\n",
              "    .dataframe thead th {\n",
              "        text-align: right;\n",
              "    }\n",
              "</style>\n",
              "<table border=\"1\" class=\"dataframe\">\n",
              "  <thead>\n",
              "    <tr style=\"text-align: right;\">\n",
              "      <th></th>\n",
              "      <th>world_rank</th>\n",
              "      <th>university_name</th>\n",
              "      <th>country</th>\n",
              "      <th>teaching</th>\n",
              "      <th>international</th>\n",
              "      <th>research</th>\n",
              "      <th>citations</th>\n",
              "      <th>income</th>\n",
              "      <th>total_score</th>\n",
              "      <th>num_students</th>\n",
              "      <th>student_staff_ratio</th>\n",
              "      <th>international_students</th>\n",
              "      <th>female_male_ratio</th>\n",
              "      <th>year</th>\n",
              "    </tr>\n",
              "  </thead>\n",
              "  <tbody>\n",
              "    <tr>\n",
              "      <th>0</th>\n",
              "      <td>1</td>\n",
              "      <td>Harvard University</td>\n",
              "      <td>United States of America</td>\n",
              "      <td>99.7</td>\n",
              "      <td>72.4</td>\n",
              "      <td>98.7</td>\n",
              "      <td>98.8</td>\n",
              "      <td>34.5</td>\n",
              "      <td>96.1</td>\n",
              "      <td>20,152</td>\n",
              "      <td>8.9</td>\n",
              "      <td>25%</td>\n",
              "      <td>NaN</td>\n",
              "      <td>2011</td>\n",
              "    </tr>\n",
              "    <tr>\n",
              "      <th>1</th>\n",
              "      <td>2</td>\n",
              "      <td>California Institute of Technology</td>\n",
              "      <td>United States of America</td>\n",
              "      <td>97.7</td>\n",
              "      <td>54.6</td>\n",
              "      <td>98.0</td>\n",
              "      <td>99.9</td>\n",
              "      <td>83.7</td>\n",
              "      <td>96.0</td>\n",
              "      <td>2,243</td>\n",
              "      <td>6.9</td>\n",
              "      <td>27%</td>\n",
              "      <td>33 : 67</td>\n",
              "      <td>2011</td>\n",
              "    </tr>\n",
              "    <tr>\n",
              "      <th>2</th>\n",
              "      <td>3</td>\n",
              "      <td>Massachusetts Institute of Technology</td>\n",
              "      <td>United States of America</td>\n",
              "      <td>97.8</td>\n",
              "      <td>82.3</td>\n",
              "      <td>91.4</td>\n",
              "      <td>99.9</td>\n",
              "      <td>87.5</td>\n",
              "      <td>95.6</td>\n",
              "      <td>11,074</td>\n",
              "      <td>9.0</td>\n",
              "      <td>33%</td>\n",
              "      <td>37 : 63</td>\n",
              "      <td>2011</td>\n",
              "    </tr>\n",
              "    <tr>\n",
              "      <th>3</th>\n",
              "      <td>4</td>\n",
              "      <td>Stanford University</td>\n",
              "      <td>United States of America</td>\n",
              "      <td>98.3</td>\n",
              "      <td>29.5</td>\n",
              "      <td>98.1</td>\n",
              "      <td>99.2</td>\n",
              "      <td>64.3</td>\n",
              "      <td>94.3</td>\n",
              "      <td>15,596</td>\n",
              "      <td>7.8</td>\n",
              "      <td>22%</td>\n",
              "      <td>42 : 58</td>\n",
              "      <td>2011</td>\n",
              "    </tr>\n",
              "    <tr>\n",
              "      <th>4</th>\n",
              "      <td>5</td>\n",
              "      <td>Princeton University</td>\n",
              "      <td>United States of America</td>\n",
              "      <td>90.9</td>\n",
              "      <td>70.3</td>\n",
              "      <td>95.4</td>\n",
              "      <td>99.9</td>\n",
              "      <td>-</td>\n",
              "      <td>94.2</td>\n",
              "      <td>7,929</td>\n",
              "      <td>8.4</td>\n",
              "      <td>27%</td>\n",
              "      <td>45 : 55</td>\n",
              "      <td>2011</td>\n",
              "    </tr>\n",
              "  </tbody>\n",
              "</table>\n",
              "</div>"
            ],
            "text/plain": [
              "  world_rank                        university_name                   country  \\\n",
              "0          1                     Harvard University  United States of America   \n",
              "1          2     California Institute of Technology  United States of America   \n",
              "2          3  Massachusetts Institute of Technology  United States of America   \n",
              "3          4                    Stanford University  United States of America   \n",
              "4          5                   Princeton University  United States of America   \n",
              "\n",
              "   teaching international  research  citations income total_score  \\\n",
              "0      99.7          72.4      98.7       98.8   34.5        96.1   \n",
              "1      97.7          54.6      98.0       99.9   83.7        96.0   \n",
              "2      97.8          82.3      91.4       99.9   87.5        95.6   \n",
              "3      98.3          29.5      98.1       99.2   64.3        94.3   \n",
              "4      90.9          70.3      95.4       99.9      -        94.2   \n",
              "\n",
              "  num_students  student_staff_ratio international_students female_male_ratio  \\\n",
              "0       20,152                  8.9                    25%               NaN   \n",
              "1        2,243                  6.9                    27%           33 : 67   \n",
              "2       11,074                  9.0                    33%           37 : 63   \n",
              "3       15,596                  7.8                    22%           42 : 58   \n",
              "4        7,929                  8.4                    27%           45 : 55   \n",
              "\n",
              "   year  \n",
              "0  2011  \n",
              "1  2011  \n",
              "2  2011  \n",
              "3  2011  \n",
              "4  2011  "
            ]
          },
          "metadata": {
            "tags": []
          },
          "execution_count": 4
        }
      ]
    },
    {
      "metadata": {
        "id": "f-zZrQmMFkJo",
        "colab_type": "code",
        "colab": {
          "base_uri": "https://localhost:8080/",
          "height": 340
        },
        "outputId": "15fec1e0-3c60-447a-e12e-5d3cfb48a8dc"
      },
      "cell_type": "code",
      "source": [
        "timesData.info()"
      ],
      "execution_count": 5,
      "outputs": [
        {
          "output_type": "stream",
          "text": [
            "<class 'pandas.core.frame.DataFrame'>\n",
            "RangeIndex: 2603 entries, 0 to 2602\n",
            "Data columns (total 14 columns):\n",
            "world_rank                2603 non-null object\n",
            "university_name           2603 non-null object\n",
            "country                   2603 non-null object\n",
            "teaching                  2603 non-null float64\n",
            "international             2603 non-null object\n",
            "research                  2603 non-null float64\n",
            "citations                 2603 non-null float64\n",
            "income                    2603 non-null object\n",
            "total_score               2603 non-null object\n",
            "num_students              2544 non-null object\n",
            "student_staff_ratio       2544 non-null float64\n",
            "international_students    2536 non-null object\n",
            "female_male_ratio         2370 non-null object\n",
            "year                      2603 non-null int64\n",
            "dtypes: float64(4), int64(1), object(9)\n",
            "memory usage: 284.8+ KB\n"
          ],
          "name": "stdout"
        }
      ]
    },
    {
      "metadata": {
        "id": "dRnt72eIF1dV",
        "colab_type": "text"
      },
      "cell_type": "markdown",
      "source": [
        "Line Charts\n",
        "Line Charts Example: Citation and Teaching vs World Rank of Top 100 Universities\n",
        "\n",
        "  Import graph_objs as go\n",
        "  \n",
        "  Creating traces\n",
        "  \n",
        "  x = x axis\n",
        "  \n",
        "  y = y axis\n",
        "  \n",
        "  mode = type of plot like marker, line or line + markers\n",
        "\n",
        "name = name of the plots\n",
        "\n",
        "marker = marker is used with dictionary.\n",
        "\n",
        "color = color of lines. It takes RGB (red, green, blue) and opacity (alpha)\n",
        "\n",
        "text = The hover text (hover is curser)\n",
        "\n",
        "data = is a list that we add traces into it\n",
        "\n",
        "layout = it is dictionary.\n",
        "\n",
        "title = title of layout\n",
        "\n",
        "x axis = it is dictionary\n",
        "\n",
        "title = label of x axis\n",
        "\n",
        "ticklen = length of x axis ticks\n",
        "\n",
        "zeroline = showing zero line or not\n",
        "\n",
        "fig = it includes data and layout\n",
        "\n",
        "iplot() = plots the figure(fig) that is created by data and layout"
      ]
    },
    {
      "metadata": {
        "id": "uweKdwKyFlYG",
        "colab_type": "code",
        "colab": {}
      },
      "cell_type": "code",
      "source": [
        "# prepare data frame\n",
        "df = timesData.iloc[:100,:]\n"
      ],
      "execution_count": 0,
      "outputs": []
    },
    {
      "metadata": {
        "id": "hX8VDOObGFBM",
        "colab_type": "code",
        "colab": {
          "base_uri": "https://localhost:8080/",
          "height": 546
        },
        "outputId": "86789da9-6860-4c69-bafc-2e8a8f799d4b"
      },
      "cell_type": "code",
      "source": [
        "# Creating trace1\n",
        "trace1 = go.Scatter(\n",
        "                    x = df.world_rank,\n",
        "                    y = df.citations,\n",
        "                    mode = \"lines\",\n",
        "                    name = \"citations\",\n",
        "                    marker = dict(color = 'rgba(16, 112, 2, 0.8)'),\n",
        "                    text= df.university_name)\n",
        "# Creating trace2\n",
        "trace2 = go.Scatter(\n",
        "                    x = df.world_rank,\n",
        "                    y = df.teaching,\n",
        "                    mode = \"lines+markers\",\n",
        "                    name = \"teaching\",\n",
        "                    marker = dict(color = 'rgba(80, 26, 80, 0.8)'),\n",
        "                    text= df.university_name)\n",
        "data = [trace1, trace2]\n",
        "layout = dict(title = 'Citation and Teaching vs World Rank of Top 100 Universities',\n",
        "              xaxis= dict(title= 'World Rank',ticklen= 5,zeroline= False)\n",
        "             )\n",
        "fig = dict(data = data, layout = layout)\n",
        "py.iplot(fig)\n"
      ],
      "execution_count": 10,
      "outputs": [
        {
          "output_type": "execute_result",
          "data": {
            "text/html": [
              "<iframe id=\"igraph\" scrolling=\"no\" style=\"border:none;\" seamless=\"seamless\" src=\"https://plot.ly/~aayushkubba/14.embed\" height=\"525px\" width=\"100%\"></iframe>"
            ],
            "text/plain": [
              "<plotly.tools.PlotlyDisplay object>"
            ]
          },
          "metadata": {
            "tags": []
          },
          "execution_count": 10
        }
      ]
    },
    {
      "metadata": {
        "id": "BgkPKoeIGZK2",
        "colab_type": "code",
        "colab": {
          "base_uri": "https://localhost:8080/",
          "height": 546
        },
        "outputId": "d3791554-2f2e-4344-85e4-afb27119d7f6"
      },
      "cell_type": "code",
      "source": [
        "#Scatter¶\n",
        "# prepare data frames\n",
        "df2014 = timesData[timesData.year == 2014].iloc[:100,:]\n",
        "df2015 = timesData[timesData.year == 2015].iloc[:100,:]\n",
        "df2016 = timesData[timesData.year == 2016].iloc[:100,:]\n",
        "\n",
        "# import graph objects as \"go\"\n",
        "import plotly.graph_objs as go\n",
        "# creating trace1\n",
        "trace1 =go.Scatter(\n",
        "                    x = df2014.world_rank,\n",
        "                    y = df2014.citations,\n",
        "                    mode = \"markers\",\n",
        "                    name = \"2014\",\n",
        "                    marker = dict(color = 'rgba(255, 128, 255, 0.8)'),\n",
        "                    text= df2014.university_name)\n",
        "# creating trace2\n",
        "trace2 =go.Scatter(\n",
        "                    x = df2015.world_rank,\n",
        "                    y = df2015.citations,\n",
        "                    mode = \"markers\",\n",
        "                    name = \"2015\",\n",
        "                    marker = dict(color = 'rgba(255, 128, 2, 0.8)'),\n",
        "                    text= df2015.university_name)\n",
        "# creating trace3\n",
        "trace3 =go.Scatter(\n",
        "                    x = df2016.world_rank,\n",
        "                    y = df2016.citations,\n",
        "                    mode = \"markers\",\n",
        "                    name = \"2016\",\n",
        "                    marker = dict(color = 'rgba(0, 255, 200, 0.8)'),\n",
        "                    text= df2016.university_name)\n",
        "data = [trace1, trace2, trace3]\n",
        "layout = dict(title = 'Citation vs world rank of top 100 universities with 2014, 2015 and 2016 years',\n",
        "              xaxis= dict(title= 'World Rank',ticklen= 5,zeroline= False),\n",
        "              yaxis= dict(title= 'Citation',ticklen= 5,zeroline= False)\n",
        "             )\n",
        "fig = dict(data = data, layout = layout)\n",
        "py.iplot(fig)"
      ],
      "execution_count": 8,
      "outputs": [
        {
          "output_type": "execute_result",
          "data": {
            "text/html": [
              "<iframe id=\"igraph\" scrolling=\"no\" style=\"border:none;\" seamless=\"seamless\" src=\"https://plot.ly/~aayushkubba/12.embed\" height=\"525px\" width=\"100%\"></iframe>"
            ],
            "text/plain": [
              "<plotly.tools.PlotlyDisplay object>"
            ]
          },
          "metadata": {
            "tags": []
          },
          "execution_count": 8
        }
      ]
    },
    {
      "metadata": {
        "id": "oC5p6AjILee-",
        "colab_type": "code",
        "colab": {
          "base_uri": "https://localhost:8080/",
          "height": 546
        },
        "outputId": "ad1556b4-04ca-41a1-e84f-f1325375050f"
      },
      "cell_type": "code",
      "source": [
        "#Scatter¶\n",
        "# prepare data frames\n",
        "df = timesData.iloc[:100,:]\n",
        "\n",
        "# creating trace1\n",
        "trace1 =go.Scatter(\n",
        "                    x = df.world_rank,\n",
        "                    y = df.citations,\n",
        "                    mode = \"markers\",\n",
        "                    name = \"All data\",\n",
        "                    marker = dict(color = 'rgba(255, 128, 255, 0.8)'),\n",
        "                    text= df.university_name)\n",
        "data = [trace1]\n",
        "layout = dict(title = 'Citation vs world rank of top 100 universities for all years',\n",
        "              xaxis= dict(title= 'World Rank',ticklen= 5,zeroline= False),\n",
        "              yaxis= dict(title= 'Citation',ticklen= 5,zeroline= False)\n",
        "             )\n",
        "fig = dict(data = data, layout = layout)\n",
        "py.iplot(fig)"
      ],
      "execution_count": 18,
      "outputs": [
        {
          "output_type": "execute_result",
          "data": {
            "text/html": [
              "<iframe id=\"igraph\" scrolling=\"no\" style=\"border:none;\" seamless=\"seamless\" src=\"https://plot.ly/~aayushkubba/24.embed\" height=\"525px\" width=\"100%\"></iframe>"
            ],
            "text/plain": [
              "<plotly.tools.PlotlyDisplay object>"
            ]
          },
          "metadata": {
            "tags": []
          },
          "execution_count": 18
        }
      ]
    },
    {
      "metadata": {
        "id": "m-Wow3u2Leb9",
        "colab_type": "code",
        "colab": {}
      },
      "cell_type": "code",
      "source": [
        ""
      ],
      "execution_count": 0,
      "outputs": []
    },
    {
      "metadata": {
        "id": "LJR6EI2WLeQX",
        "colab_type": "code",
        "colab": {}
      },
      "cell_type": "code",
      "source": [
        ""
      ],
      "execution_count": 0,
      "outputs": []
    },
    {
      "metadata": {
        "id": "fiBlq8emI_3Q",
        "colab_type": "code",
        "colab": {
          "base_uri": "https://localhost:8080/",
          "height": 546
        },
        "outputId": "8074f5ed-54ca-458e-abc0-dadef610a456"
      },
      "cell_type": "code",
      "source": [
        "# Bar Chart\n",
        "# prepare data frames\n",
        "df2014 = timesData[timesData.year == 2014].iloc[:3,:]\n",
        "# import graph objects as \"go\"\n",
        "import plotly.graph_objs as go\n",
        "# create trace1 \n",
        "trace1 = go.Bar(\n",
        "                x = df2014.university_name,\n",
        "                y = df2014.citations,\n",
        "                name = \"citations\",\n",
        "                marker = dict(color = 'rgba(255, 174, 255, 0.5)',\n",
        "                             line=dict(color='rgb(0,0,0)',width=1.5)),\n",
        "                text = df2014.country)\n",
        "# create trace2 \n",
        "trace2 = go.Bar(\n",
        "                x = df2014.university_name,\n",
        "                y = df2014.teaching,\n",
        "                name = \"teaching\",\n",
        "                marker = dict(color = 'rgba(255, 255, 128, 0.5)',\n",
        "                              line=dict(color='rgb(0,0,0)',width=1.5)),\n",
        "                text = df2014.country)\n",
        "data = [trace1, trace2]\n",
        "layout = go.Layout(barmode = \"group\")\n",
        "fig = go.Figure(data = data, layout = layout)\n",
        "py.iplot(fig)\n"
      ],
      "execution_count": 11,
      "outputs": [
        {
          "output_type": "execute_result",
          "data": {
            "text/html": [
              "<iframe id=\"igraph\" scrolling=\"no\" style=\"border:none;\" seamless=\"seamless\" src=\"https://plot.ly/~aayushkubba/16.embed\" height=\"525px\" width=\"100%\"></iframe>"
            ],
            "text/plain": [
              "<plotly.tools.PlotlyDisplay object>"
            ]
          },
          "metadata": {
            "tags": []
          },
          "execution_count": 11
        }
      ]
    },
    {
      "metadata": {
        "id": "ilXiEcnYLJXF",
        "colab_type": "code",
        "colab": {
          "base_uri": "https://localhost:8080/",
          "height": 546
        },
        "outputId": "d3734843-dc5f-4b42-8341-6b8e74211342"
      },
      "cell_type": "code",
      "source": [
        "# prepare data frames\n",
        "df2014 = timesData[timesData.year == 2014].iloc[:3,:]\n",
        "# import graph objects as \"go\"\n",
        "import plotly.graph_objs as go\n",
        "\n",
        "x = df2014.university_name\n",
        "\n",
        "trace1 = {\n",
        "  'x': x,\n",
        "  'y': df2014.citations,\n",
        "  'name': 'citation',\n",
        "  'type': 'bar'\n",
        "};\n",
        "trace2 = {\n",
        "  'x': x,\n",
        "  'y': df2014.teaching,\n",
        "  'name': 'teaching',\n",
        "  'type': 'bar'\n",
        "};\n",
        "data = [trace1, trace2];\n",
        "layout = {\n",
        "  'xaxis': {'title': 'Top 3 universities'},\n",
        "  'barmode': 'relative',\n",
        "  'title': 'citations and teaching of top 3 universities in 2014'\n",
        "};\n",
        "fig = go.Figure(data = data, layout = layout)\n",
        "py.iplot(fig)"
      ],
      "execution_count": 12,
      "outputs": [
        {
          "output_type": "execute_result",
          "data": {
            "text/html": [
              "<iframe id=\"igraph\" scrolling=\"no\" style=\"border:none;\" seamless=\"seamless\" src=\"https://plot.ly/~aayushkubba/18.embed\" height=\"525px\" width=\"100%\"></iframe>"
            ],
            "text/plain": [
              "<plotly.tools.PlotlyDisplay object>"
            ]
          },
          "metadata": {
            "tags": []
          },
          "execution_count": 12
        }
      ]
    },
    {
      "metadata": {
        "id": "xypYSw8KLLV-",
        "colab_type": "code",
        "colab": {
          "base_uri": "https://localhost:8080/",
          "height": 597
        },
        "outputId": "62336a04-1db5-432d-8c06-1e05076e1eb7"
      },
      "cell_type": "code",
      "source": [
        "import numpy as np\n",
        "# import graph objects as \"go\" and import tools\n",
        "import plotly.graph_objs as go\n",
        "from plotly import tools\n",
        "import matplotlib.pyplot as plt\n",
        "# prepare data frames\n",
        "df2016 = timesData[timesData.year == 2016].iloc[:7,:]\n",
        "\n",
        "y_saving = [each for each in df2016.research]\n",
        "y_net_worth  = [float(each) for each in df2016.income]\n",
        "x_saving = [each for each in df2016.university_name]\n",
        "x_net_worth  = [each for each in df2016.university_name]\n",
        "trace0 = go.Bar(\n",
        "                x=y_saving,\n",
        "                y=x_saving,\n",
        "                marker=dict(color='rgba(171, 50, 96, 0.6)',line=dict(color='rgba(171, 50, 96, 1.0)',width=1)),\n",
        "                name='research',\n",
        "                orientation='h',\n",
        ")\n",
        "trace1 = go.Scatter(\n",
        "                x=y_net_worth,\n",
        "                y=x_net_worth,\n",
        "                mode='lines+markers',\n",
        "                line=dict(color='rgb(63, 72, 204)'),\n",
        "                name='income',\n",
        ")\n",
        "layout = dict(\n",
        "                title='Citations and income',\n",
        "                yaxis1=dict(showticklabels=True,domain=[0, 0.85]),\n",
        "                yaxis2=dict(showline=True,showticklabels=False,linecolor='rgba(102, 102, 102, 0.8)',linewidth=2,domain=[0, 0.85]),\n",
        "                xaxis1=dict(zeroline=False,showline=False,showticklabels=True,showgrid=True,domain=[0, 0.42]),\n",
        "                xaxis2=dict(zeroline=False,showline=False,showticklabels=True,showgrid=True,domain=[0.47, 1],side='top',dtick=25),\n",
        "                legend=dict(x=0.029,y=1.038,font=dict(size=10) ),\n",
        "                margin=dict(l=200, r=20,t=70,b=70),\n",
        "                paper_bgcolor='rgb(248, 248, 255)',\n",
        "                plot_bgcolor='rgb(248, 248, 255)',\n",
        ")\n",
        "annotations = []\n",
        "y_s = np.round(y_saving, decimals=2)\n",
        "y_nw = np.rint(y_net_worth)\n",
        "# Adding labels\n",
        "for ydn, yd, xd in zip(y_nw, y_s, x_saving):\n",
        "    # labeling the scatter savings\n",
        "    annotations.append(dict(xref='x2', yref='y2', y=xd, x=ydn - 4,text='{:,}'.format(ydn),font=dict(family='Arial', size=12,color='rgb(63, 72, 204)'),showarrow=False))\n",
        "    # labeling the bar net worth\n",
        "    annotations.append(dict(xref='x1', yref='y1', y=xd, x=yd + 3,text=str(yd),font=dict(family='Arial', size=12,color='rgb(171, 50, 96)'),showarrow=False))\n",
        "\n",
        "layout['annotations'] = annotations\n",
        "\n",
        "# Creating two subplots\n",
        "fig = tools.make_subplots(rows=1, cols=2, specs=[[{}, {}]], shared_xaxes=True,\n",
        "                          shared_yaxes=False, vertical_spacing=0.001)\n",
        "\n",
        "fig.append_trace(trace0, 1, 1)\n",
        "fig.append_trace(trace1, 1, 2)\n",
        "\n",
        "fig['layout'].update(layout)\n",
        "py.iplot(fig)"
      ],
      "execution_count": 13,
      "outputs": [
        {
          "output_type": "stream",
          "text": [
            "This is the format of your plot grid:\n",
            "[ (1,1) x1,y1 ]  [ (1,2) x2,y2 ]\n",
            "\n"
          ],
          "name": "stdout"
        },
        {
          "output_type": "execute_result",
          "data": {
            "text/html": [
              "<iframe id=\"igraph\" scrolling=\"no\" style=\"border:none;\" seamless=\"seamless\" src=\"https://plot.ly/~aayushkubba/20.embed\" height=\"525px\" width=\"100%\"></iframe>"
            ],
            "text/plain": [
              "<plotly.tools.PlotlyDisplay object>"
            ]
          },
          "metadata": {
            "tags": []
          },
          "execution_count": 13
        }
      ]
    },
    {
      "metadata": {
        "id": "67x9zKA8LM_5",
        "colab_type": "code",
        "colab": {}
      },
      "cell_type": "code",
      "source": [
        ""
      ],
      "execution_count": 0,
      "outputs": []
    }
  ]
}